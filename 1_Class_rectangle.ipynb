{
  "nbformat": 4,
  "nbformat_minor": 0,
  "metadata": {
    "colab": {
      "provenance": []
    },
    "kernelspec": {
      "name": "python3",
      "display_name": "Python 3"
    },
    "language_info": {
      "name": "python"
    }
  },
  "cells": [
    {
      "cell_type": "markdown",
      "source": [
        "# 1. Реализовать модуль генерации данных\n",
        "Реализовать на языке Python класс, один из методов которого будет создавать изображение и описание фигур, находящихся на этом изображении. Сгенерированное изображение должно быть размером 640х480 пикселей и представляет собой однотонный фон случайного цвета, на котором размещен прямоугольник случайного размера (без выхода за границы изображения) со стороной от 150 до 250 пикселей случайного цвета, отличного от цвета фона, повернутого на случайный угол от 0 до 89 градусов.  \n",
        "\n",
        "Выход метода класса:  \n",
        "1)\tсгенерированное изображение;  \n",
        "2)\tпараметры описывающего прямоугольника (координаты x, y верхнего левого угла, ширина (w) и высота (h));  \n",
        "3)\tкоординаты четырех углов сгенерированного прямоугольника.\n"
      ],
      "metadata": {
        "id": "0gkADoCiAEvq"
      }
    },
    {
      "cell_type": "markdown",
      "source": [
        "Импорт библиотек"
      ],
      "metadata": {
        "id": "Te6H1iFkAG3b"
      }
    },
    {
      "cell_type": "code",
      "source": [
        "import random\n",
        "import numpy as np\n",
        "import cv2\n",
        "import matplotlib.pyplot as plt"
      ],
      "metadata": {
        "id": "j8xL_jUPAIfQ"
      },
      "execution_count": 6,
      "outputs": []
    },
    {
      "cell_type": "markdown",
      "source": [
        "Класс, создающий прямоугольники"
      ],
      "metadata": {
        "id": "2cLeOJErAJSK"
      }
    },
    {
      "cell_type": "code",
      "execution_count": 3,
      "metadata": {
        "id": "uZLo5Tly_tHQ"
      },
      "outputs": [],
      "source": [
        "class object1:\n",
        "    def ran1(self):\n",
        "        self.img = np.zeros((480, 640, 3), np.uint8)\n",
        "        self.img[:] = (random.randrange(0, 255), random.randrange(0, 255), random.randrange(0, 255))\n",
        "        width = random.randrange(100, 250)\n",
        "        height = random.randrange(100, 250)\n",
        "        diam = np.sqrt(width ** 2 + height ** 2)\n",
        "\n",
        "        x1 = random.randrange(int(diam / 2 - width / 2), int(self.img.shape[1] - (diam / 2 - width / 2) - width))\n",
        "        x2 = x1 + width\n",
        "        y1 = random.randrange(int((diam / 2 - height / 2)), int(self.img.shape[0] - (diam / 2 - height / 2) - height))\n",
        "        y2 = y1 + height\n",
        "\n",
        "        points = np.array([[x1, y1], [x2, y1], [x2, y2], [x1, y2]])\n",
        "\n",
        "        ANGLE = np.deg2rad(random.randrange(0, 89))\n",
        "        c_x, c_y = np.mean(points, axis=0)\n",
        "        points = np.array([[c_x + np.cos(ANGLE) * (px - c_x) - np.sin(ANGLE) * (py - c_y),\n",
        "                            c_y + np.sin(ANGLE) * (px - c_x) + np.cos(ANGLE) * (py - c_y)]\n",
        "                           for px, py in points]).astype(int)\n",
        "\n",
        "        self.points = points\n",
        "        self.describe = np.array([points[3][0], points[0][1], points[1][0] - points[3][0], points[2][1] - points[0][1]])\n",
        "        self.img = cv2.drawContours(self.img, [points], 0,\n",
        "                               (random.randrange(0, 255), random.randrange(0, 255), random.randrange(0, 255)), -1)"
      ]
    },
    {
      "cell_type": "markdown",
      "source": [
        "Создание экземпляра"
      ],
      "metadata": {
        "id": "yJvXJ1ElAi4m"
      }
    },
    {
      "cell_type": "code",
      "source": [
        "image = object1()\n",
        "image.ran1()"
      ],
      "metadata": {
        "id": "XKd4njqoAkZ0"
      },
      "execution_count": 4,
      "outputs": []
    },
    {
      "cell_type": "markdown",
      "source": [
        "Визуализация прямоугольника"
      ],
      "metadata": {
        "id": "1o8kXWJWAUHp"
      }
    },
    {
      "cell_type": "code",
      "source": [
        "fig, ax = plt.subplots()\n",
        "ax.imshow(cv2.resize(image.img, dsize=(640, 480), interpolation=cv2.INTER_CUBIC))\n",
        "plt.show()"
      ],
      "metadata": {
        "colab": {
          "base_uri": "https://localhost:8080/",
          "height": 269
        },
        "id": "3KQsexGFAXiC",
        "outputId": "82b8887b-52a8-4b00-a9b9-30c4734eab9e"
      },
      "execution_count": 8,
      "outputs": [
        {
          "output_type": "display_data",
          "data": {
            "text/plain": [
              "<Figure size 432x288 with 1 Axes>"
            ],
            "image/png": "[encoded data removed]"
          },
          "metadata": {
            "needs_background": "light"
          }
        }
      ]
    },
    {
      "cell_type": "markdown",
      "source": [
        "Координаты описывающего прямоугольника"
      ],
      "metadata": {
        "id": "ydKKiFt2AYsQ"
      }
    },
    {
      "cell_type": "code",
      "source": [
        "print(f'Описывающий прямоугольник \\n x = {image.describe[0]} \\n y = {image.describe[1]} \\n '\n",
        "      f'w = {image.describe[2]} \\n h = {image.describe[3]}')"
      ],
      "metadata": {
        "colab": {
          "base_uri": "https://localhost:8080/"
        },
        "id": "cndnB4ULAc68",
        "outputId": "35a64d99-0038-4ed7-bbd5-e062cdf6f4b2"
      },
      "execution_count": 9,
      "outputs": [
        {
          "output_type": "stream",
          "name": "stdout",
          "text": [
            "Описывающий прямоугольник \n",
            " x = 125 \n",
            " y = 66 \n",
            " w = 328 \n",
            " h = 328\n"
          ]
        }
      ]
    },
    {
      "cell_type": "markdown",
      "source": [
        "Координаты углов"
      ],
      "metadata": {
        "id": "Zt8R7TvGAdyG"
      }
    },
    {
      "cell_type": "code",
      "source": [
        "print(f'Координаты углов \\n x1, y1 = {image.points[3]} \\n x2, y2 = {image.points[0]} \\n '\n",
        "      f'x3, y3 = {image.points[1]} \\n x4, y4 = {image.points[2]}')"
      ],
      "metadata": {
        "colab": {
          "base_uri": "https://localhost:8080/"
        },
        "id": "83sWJ5sWAf_8",
        "outputId": "d6c27f0c-fed1-41c2-a25c-284d39c7997d"
      },
      "execution_count": 10,
      "outputs": [
        {
          "output_type": "stream",
          "name": "stdout",
          "text": [
            "Координаты углов \n",
            " x1, y1 = [125 231] \n",
            " x2, y2 = [295  66] \n",
            " x3, y3 = [453 229] \n",
            " x4, y4 = [283 394]\n"
          ]
        }
      ]
    }
  ]
}